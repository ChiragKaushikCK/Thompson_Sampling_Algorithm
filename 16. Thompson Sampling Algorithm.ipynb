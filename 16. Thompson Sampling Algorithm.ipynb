{
 "cells": [
  {
   "cell_type": "code",
   "execution_count": 0,
   "metadata": {
    "application/vnd.databricks.v1+cell": {
     "cellMetadata": {
      "byteLimit": 2048000,
      "rowLimit": 10000
     },
     "inputWidgets": {},
     "nuid": "42900d44-c71d-428d-969e-cc1b48503e15",
     "showTitle": false,
     "tableResultSettingsMap": {},
     "title": ""
    }
   },
   "outputs": [
    {
     "output_type": "stream",
     "name": "stdout",
     "output_type": "stream",
     "text": [
      "Out[1]: DataFrame[Ad 1: string, Ad 2: string, Ad 3: string, Ad 4: string, Ad 5: string, Ad 6: string, Ad 7: string, Ad 8: string, Ad 9: string, Ad 10: string]"
     ]
    }
   ],
   "source": [
    "df=spark.read.csv('/FileStore/tables/Ads_CTR_Optimisation.csv',header=True)\n",
    "df"
   ]
  },
  {
   "cell_type": "code",
   "execution_count": 0,
   "metadata": {
    "application/vnd.databricks.v1+cell": {
     "cellMetadata": {
      "byteLimit": 2048000,
      "rowLimit": 10000
     },
     "inputWidgets": {},
     "nuid": "2131578a-91c8-4685-8fd0-07ea10d2c98d",
     "showTitle": false,
     "tableResultSettingsMap": {},
     "title": ""
    }
   },
   "outputs": [
    {
     "output_type": "display_data",
     "data": {
      "text/html": [
       "<div>\n",
       "<style scoped>\n",
       "    .dataframe tbody tr th:only-of-type {\n",
       "        vertical-align: middle;\n",
       "    }\n",
       "\n",
       "    .dataframe tbody tr th {\n",
       "        vertical-align: top;\n",
       "    }\n",
       "\n",
       "    .dataframe thead th {\n",
       "        text-align: right;\n",
       "    }\n",
       "</style>\n",
       "<table border=\"1\" class=\"dataframe\">\n",
       "  <thead>\n",
       "    <tr style=\"text-align: right;\">\n",
       "      <th></th>\n",
       "      <th>Ad 1</th>\n",
       "      <th>Ad 2</th>\n",
       "      <th>Ad 3</th>\n",
       "      <th>Ad 4</th>\n",
       "      <th>Ad 5</th>\n",
       "      <th>Ad 6</th>\n",
       "      <th>Ad 7</th>\n",
       "      <th>Ad 8</th>\n",
       "      <th>Ad 9</th>\n",
       "      <th>Ad 10</th>\n",
       "    </tr>\n",
       "  </thead>\n",
       "  <tbody>\n",
       "    <tr>\n",
       "      <th>0</th>\n",
       "      <td>1</td>\n",
       "      <td>0</td>\n",
       "      <td>0</td>\n",
       "      <td>0</td>\n",
       "      <td>1</td>\n",
       "      <td>0</td>\n",
       "      <td>0</td>\n",
       "      <td>0</td>\n",
       "      <td>1</td>\n",
       "      <td>0</td>\n",
       "    </tr>\n",
       "    <tr>\n",
       "      <th>1</th>\n",
       "      <td>0</td>\n",
       "      <td>0</td>\n",
       "      <td>0</td>\n",
       "      <td>0</td>\n",
       "      <td>0</td>\n",
       "      <td>0</td>\n",
       "      <td>0</td>\n",
       "      <td>0</td>\n",
       "      <td>1</td>\n",
       "      <td>0</td>\n",
       "    </tr>\n",
       "    <tr>\n",
       "      <th>2</th>\n",
       "      <td>0</td>\n",
       "      <td>0</td>\n",
       "      <td>0</td>\n",
       "      <td>0</td>\n",
       "      <td>0</td>\n",
       "      <td>0</td>\n",
       "      <td>0</td>\n",
       "      <td>0</td>\n",
       "      <td>0</td>\n",
       "      <td>0</td>\n",
       "    </tr>\n",
       "    <tr>\n",
       "      <th>3</th>\n",
       "      <td>0</td>\n",
       "      <td>1</td>\n",
       "      <td>0</td>\n",
       "      <td>0</td>\n",
       "      <td>0</td>\n",
       "      <td>0</td>\n",
       "      <td>0</td>\n",
       "      <td>1</td>\n",
       "      <td>0</td>\n",
       "      <td>0</td>\n",
       "    </tr>\n",
       "    <tr>\n",
       "      <th>4</th>\n",
       "      <td>0</td>\n",
       "      <td>0</td>\n",
       "      <td>0</td>\n",
       "      <td>0</td>\n",
       "      <td>0</td>\n",
       "      <td>0</td>\n",
       "      <td>0</td>\n",
       "      <td>0</td>\n",
       "      <td>0</td>\n",
       "      <td>0</td>\n",
       "    </tr>\n",
       "    <tr>\n",
       "      <th>...</th>\n",
       "      <td>...</td>\n",
       "      <td>...</td>\n",
       "      <td>...</td>\n",
       "      <td>...</td>\n",
       "      <td>...</td>\n",
       "      <td>...</td>\n",
       "      <td>...</td>\n",
       "      <td>...</td>\n",
       "      <td>...</td>\n",
       "      <td>...</td>\n",
       "    </tr>\n",
       "    <tr>\n",
       "      <th>9995</th>\n",
       "      <td>0</td>\n",
       "      <td>0</td>\n",
       "      <td>1</td>\n",
       "      <td>0</td>\n",
       "      <td>0</td>\n",
       "      <td>0</td>\n",
       "      <td>0</td>\n",
       "      <td>1</td>\n",
       "      <td>0</td>\n",
       "      <td>0</td>\n",
       "    </tr>\n",
       "    <tr>\n",
       "      <th>9996</th>\n",
       "      <td>0</td>\n",
       "      <td>0</td>\n",
       "      <td>0</td>\n",
       "      <td>0</td>\n",
       "      <td>0</td>\n",
       "      <td>0</td>\n",
       "      <td>0</td>\n",
       "      <td>0</td>\n",
       "      <td>0</td>\n",
       "      <td>0</td>\n",
       "    </tr>\n",
       "    <tr>\n",
       "      <th>9997</th>\n",
       "      <td>0</td>\n",
       "      <td>0</td>\n",
       "      <td>0</td>\n",
       "      <td>0</td>\n",
       "      <td>0</td>\n",
       "      <td>0</td>\n",
       "      <td>0</td>\n",
       "      <td>0</td>\n",
       "      <td>0</td>\n",
       "      <td>0</td>\n",
       "    </tr>\n",
       "    <tr>\n",
       "      <th>9998</th>\n",
       "      <td>1</td>\n",
       "      <td>0</td>\n",
       "      <td>0</td>\n",
       "      <td>0</td>\n",
       "      <td>0</td>\n",
       "      <td>0</td>\n",
       "      <td>0</td>\n",
       "      <td>1</td>\n",
       "      <td>0</td>\n",
       "      <td>0</td>\n",
       "    </tr>\n",
       "    <tr>\n",
       "      <th>9999</th>\n",
       "      <td>0</td>\n",
       "      <td>1</td>\n",
       "      <td>0</td>\n",
       "      <td>0</td>\n",
       "      <td>0</td>\n",
       "      <td>0</td>\n",
       "      <td>0</td>\n",
       "      <td>0</td>\n",
       "      <td>0</td>\n",
       "      <td>0</td>\n",
       "    </tr>\n",
       "  </tbody>\n",
       "</table>\n",
       "<p>10000 rows × 10 columns</p>\n",
       "</div>"
      ]
     },
     "metadata": {
      "application/vnd.databricks.v1+output": {
       "addedWidgets": {},
       "arguments": {},
       "data": "<div>\n<style scoped>\n    .dataframe tbody tr th:only-of-type {\n        vertical-align: middle;\n    }\n\n    .dataframe tbody tr th {\n        vertical-align: top;\n    }\n\n    .dataframe thead th {\n        text-align: right;\n    }\n</style>\n<table border=\"1\" class=\"dataframe\">\n  <thead>\n    <tr style=\"text-align: right;\">\n      <th></th>\n      <th>Ad 1</th>\n      <th>Ad 2</th>\n      <th>Ad 3</th>\n      <th>Ad 4</th>\n      <th>Ad 5</th>\n      <th>Ad 6</th>\n      <th>Ad 7</th>\n      <th>Ad 8</th>\n      <th>Ad 9</th>\n      <th>Ad 10</th>\n    </tr>\n  </thead>\n  <tbody>\n    <tr>\n      <th>0</th>\n      <td>1</td>\n      <td>0</td>\n      <td>0</td>\n      <td>0</td>\n      <td>1</td>\n      <td>0</td>\n      <td>0</td>\n      <td>0</td>\n      <td>1</td>\n      <td>0</td>\n    </tr>\n    <tr>\n      <th>1</th>\n      <td>0</td>\n      <td>0</td>\n      <td>0</td>\n      <td>0</td>\n      <td>0</td>\n      <td>0</td>\n      <td>0</td>\n      <td>0</td>\n      <td>1</td>\n      <td>0</td>\n    </tr>\n    <tr>\n      <th>2</th>\n      <td>0</td>\n      <td>0</td>\n      <td>0</td>\n      <td>0</td>\n      <td>0</td>\n      <td>0</td>\n      <td>0</td>\n      <td>0</td>\n      <td>0</td>\n      <td>0</td>\n    </tr>\n    <tr>\n      <th>3</th>\n      <td>0</td>\n      <td>1</td>\n      <td>0</td>\n      <td>0</td>\n      <td>0</td>\n      <td>0</td>\n      <td>0</td>\n      <td>1</td>\n      <td>0</td>\n      <td>0</td>\n    </tr>\n    <tr>\n      <th>4</th>\n      <td>0</td>\n      <td>0</td>\n      <td>0</td>\n      <td>0</td>\n      <td>0</td>\n      <td>0</td>\n      <td>0</td>\n      <td>0</td>\n      <td>0</td>\n      <td>0</td>\n    </tr>\n    <tr>\n      <th>...</th>\n      <td>...</td>\n      <td>...</td>\n      <td>...</td>\n      <td>...</td>\n      <td>...</td>\n      <td>...</td>\n      <td>...</td>\n      <td>...</td>\n      <td>...</td>\n      <td>...</td>\n    </tr>\n    <tr>\n      <th>9995</th>\n      <td>0</td>\n      <td>0</td>\n      <td>1</td>\n      <td>0</td>\n      <td>0</td>\n      <td>0</td>\n      <td>0</td>\n      <td>1</td>\n      <td>0</td>\n      <td>0</td>\n    </tr>\n    <tr>\n      <th>9996</th>\n      <td>0</td>\n      <td>0</td>\n      <td>0</td>\n      <td>0</td>\n      <td>0</td>\n      <td>0</td>\n      <td>0</td>\n      <td>0</td>\n      <td>0</td>\n      <td>0</td>\n    </tr>\n    <tr>\n      <th>9997</th>\n      <td>0</td>\n      <td>0</td>\n      <td>0</td>\n      <td>0</td>\n      <td>0</td>\n      <td>0</td>\n      <td>0</td>\n      <td>0</td>\n      <td>0</td>\n      <td>0</td>\n    </tr>\n    <tr>\n      <th>9998</th>\n      <td>1</td>\n      <td>0</td>\n      <td>0</td>\n      <td>0</td>\n      <td>0</td>\n      <td>0</td>\n      <td>0</td>\n      <td>1</td>\n      <td>0</td>\n      <td>0</td>\n    </tr>\n    <tr>\n      <th>9999</th>\n      <td>0</td>\n      <td>1</td>\n      <td>0</td>\n      <td>0</td>\n      <td>0</td>\n      <td>0</td>\n      <td>0</td>\n      <td>0</td>\n      <td>0</td>\n      <td>0</td>\n    </tr>\n  </tbody>\n</table>\n<p>10000 rows × 10 columns</p>\n</div>",
       "datasetInfos": [],
       "metadata": {},
       "removedWidgets": [],
       "textData": null,
       "type": "htmlSandbox"
      }
     },
     "output_type": "display_data"
    }
   ],
   "source": [
    "df=df.toPandas()\n",
    "df"
   ]
  },
  {
   "cell_type": "code",
   "execution_count": 0,
   "metadata": {
    "application/vnd.databricks.v1+cell": {
     "cellMetadata": {
      "byteLimit": 2048000,
      "rowLimit": 10000
     },
     "inputWidgets": {},
     "nuid": "f55fdbec-5020-4dbb-860a-2f8c2650e934",
     "showTitle": false,
     "tableResultSettingsMap": {},
     "title": ""
    }
   },
   "outputs": [],
   "source": [
    "N = 10000  # Number of rounds\n",
    "d = 10  # Number of ads (arms)\n",
    "number_of_reward_1 = [0] * d  # Count of rewards 1 for each ad\n",
    "number_of_reward_0 = [0] * d  # Count of rewards 0 for each ad\n",
    "total_reward = 0  # Total reward obtained\n",
    "ads = []  # List to store selected ads\n",
    "\n",
    "for n in range(N):\n",
    "    max_random = 0  # Reset max_random in each round\n",
    "    ad = 0  # Initialize chosen ad\n",
    "\n",
    "    for i in range(d):\n",
    "        random_beta = rm.betavariate(number_of_reward_1[i] + 1, number_of_reward_0[i] + 1)\n",
    "        \n",
    "        if random_beta > max_random:\n",
    "            max_random = random_beta\n",
    "            ad = i\n",
    "\n",
    "    ads.append(ad)\n",
    "    reward = int(df.values[n, ad])  # Convert to integer\n",
    "\n",
    "    if reward == 1:\n",
    "        number_of_reward_1[ad] += 1\n",
    "    else:\n",
    "        number_of_reward_0[ad] += 1  # Fixed the update operation\n",
    "\n",
    "    total_reward += reward  # Accumulate total reward\n"
   ]
  },
  {
   "cell_type": "code",
   "execution_count": 0,
   "metadata": {
    "application/vnd.databricks.v1+cell": {
     "cellMetadata": {
      "byteLimit": 2048000,
      "rowLimit": 10000
     },
     "inputWidgets": {},
     "nuid": "459c5168-c38d-4d81-af6c-a61324b405db",
     "showTitle": false,
     "tableResultSettingsMap": {},
     "title": ""
    }
   },
   "outputs": [
    {
     "output_type": "stream",
     "name": "stdout",
     "output_type": "stream",
     "text": [
      "Out[19]: 2579"
     ]
    }
   ],
   "source": [
    "total_reward"
   ]
  },
  {
   "cell_type": "code",
   "execution_count": 0,
   "metadata": {
    "application/vnd.databricks.v1+cell": {
     "cellMetadata": {
      "byteLimit": 2048000,
      "rowLimit": 10000
     },
     "inputWidgets": {},
     "nuid": "4a867cae-3205-4c0c-b6ef-fef6b029ee62",
     "showTitle": false,
     "tableResultSettingsMap": {},
     "title": ""
    }
   },
   "outputs": [
    {
     "output_type": "stream",
     "name": "stdout",
     "output_type": "stream",
     "text": [
      "Out[20]: (array([ 105.,   65.,   44.,  134., 9259.,   25.,   49.,  247.,   33.,\n          39.]),\n array([0. , 0.9, 1.8, 2.7, 3.6, 4.5, 5.4, 6.3, 7.2, 8.1, 9. ]),\n <BarContainer object of 10 artists>)"
     ]
    },
    {
     "output_type": "display_data",
     "data": {
      "image/png": "[encoded data removed]"
     },
     "metadata": {
      "application/vnd.databricks.v1+output": {
       "addedWidgets": {},
       "arguments": {},
       "data": "data:image/png;base64,iVBORw0KGgoAAAANSUhEUgAAAX0AAAD4CAYAAAAAczaOAAAAOXRFWHRTb2Z0d2FyZQBNYXRwbG90bGliIHZlcnNpb24zLjUuMSwgaHR0cHM6Ly9tYXRwbG90bGliLm9yZy/YYfK9AAAACXBIWXMAAAsTAAALEwEAmpwYAAAN+0lEQVR4nO3cb4xddZ3H8fdnOyKCWf7IhGjb7DSx0VQTA2kQl8QH1gUUY3mghs2uNoSkT1hFY+KCT0hUEkiMiMlK0lAMukQklYRGjUgAH+wDK+VPVKiECSBtF2S0gK5GsfrdB/OrTM0Mc2tv7ynze78S0nN+59x7f+eEvu/pmTs3VYUkqQ//MPQEJEmTY/QlqSNGX5I6YvQlqSNGX5I6MjX0BF7JGWecUTMzM0NPQ5JeVR544IFfVdX0YtuO6+jPzMywe/fuoachSa8qSX6x1DZv70hSR4y+JHXE6EtSR4y+JHXE6EtSR4y+JHXE6EtSR4y+JHXE6EtSR47r38iVljNz5XcHe+2nrr1osNeW/l5e6UtSR4y+JHXE6EtSR4y+JHXE6EtSR4y+JHXE6EtSR4y+JHXE6EtSR4y+JHXE6EtSR4y+JHXE6EtSR4y+JHXE6EtSR4y+JHXE6EtSR4y+JHXE6EtSR4y+JHXE6EtSR4y+JHXE6EtSR4y+JHVkpOgn+VSSR5L8LMk3k5yYZF2SXUlmk3wryQlt39e29dm2fWbB81zVxh9LcsExOiZJ0hKWjX6S1cAngI1V9XZgFXAJcB1wfVW9GXgeuKw95DLg+TZ+fduPJBva494GXAh8Ncmq8R6OJOmVjHp7Zwp4XZIp4CTgGeA9wI62/Rbg4ra8ua3Ttm9KkjZ+W1X9saqeBGaBc476CCRJI1s2+lW1H/gi8DTzsX8ReAB4oaoOtt32Aavb8mpgb3vswbb/GxaOL/KYv0qyNcnuJLvn5ub+nmOSJC1hlNs7pzF/lb4OeBNwMvO3Z46JqtpWVRurauP09PSxehlJ6tIot3feCzxZVXNV9SfgDuA84NR2uwdgDbC/Le8H1gK07acAv144vshjJEkTMEr0nwbOTXJSuze/CXgUuA/4UNtnC3BnW97Z1mnb762qauOXtE/3rAPWAz8ez2FIkkYxtdwOVbUryQ7gQeAg8BCwDfgucFuSL7Sx7e0h24FvJJkFDjD/iR2q6pEktzP/hnEQuLyq/jzm45EkvYJlow9QVVcDV//N8BMs8umbqvoD8OElnuca4JojnKMkaUz8jVxJ6ojRl6SOGH1J6ojRl6SOGH1J6ojRl6SOGH1J6ojRl6SOGH1J6ojRl6SOGH1J6ojRl6SOGH1J6ojRl6SOGH1J6ojRl6SOGH1J6ojRl6SOGH1J6ojRl6SOGH1J6ojRl6SOGH1J6ojRl6SOGH1J6ojRl6SOGH1J6ojRl6SOGH1J6ojRl6SOGH1J6ojRl6SOGH1J6ojRl6SOGH1J6shI0U9yapIdSX6eZE+SdyU5PcndSR5vf57W9k2SrySZTfKTJGcveJ4tbf/Hk2w5VgclSVrcqFf6NwDfr6q3Au8A9gBXAvdU1XrgnrYO8D5gfftvK3AjQJLTgauBdwLnAFcfeqOQJE3GstFPcgrwbmA7QFW9VFUvAJuBW9putwAXt+XNwNdr3o+AU5O8EbgAuLuqDlTV88DdwIVjPBZJ0jJGudJfB8wBX0vyUJKbkpwMnFlVz7R9ngXObMurgb0LHr+vjS01LkmakFGiPwWcDdxYVWcBv+PlWzkAVFUBNY4JJdmaZHeS3XNzc+N4SklSM0r09wH7qmpXW9/B/JvAL9ttG9qfz7Xt+4G1Cx6/po0tNX6YqtpWVRurauP09PSRHIskaRnLRr+qngX2JnlLG9oEPArsBA59AmcLcGdb3gl8rH2K51zgxXYb6C7g/CSntR/gnt/GJEkTMjXifh8Hbk1yAvAEcCnzbxi3J7kM+AXwkbbv94D3A7PA79u+VNWBJJ8H7m/7fa6qDozlKCRJIxkp+lX1MLBxkU2bFtm3gMuXeJ6bgZuPYH6SpDHyN3IlqSNGX5I6YvQlqSNGX5I6YvQlqSNGX5I6YvQlqSNGX5I6YvQlqSNGX5I6YvQlqSNGX5I6YvQlqSNGX5I6YvQlqSNGX5I6YvQlqSNGX5I6YvQlqSNGX5I6YvQlqSNGX5I6YvQlqSNGX5I6YvQlqSNGX5I6YvQlqSNGX5I6YvQlqSNGX5I6YvQlqSNGX5I6YvQlqSNGX5I6YvQlqSNGX5I6MnL0k6xK8lCS77T1dUl2JZlN8q0kJ7Tx17b12bZ9ZsFzXNXGH0tywdiPRpL0io7kSv8KYM+C9euA66vqzcDzwGVt/DLg+TZ+fduPJBuAS4C3ARcCX02y6uimL0k6EiNFP8ka4CLgprYe4D3AjrbLLcDFbXlzW6dt39T23wzcVlV/rKongVngnDEcgyRpRKNe6X8Z+Azwl7b+BuCFqjrY1vcBq9vyamAvQNv+Ytv/r+OLPOavkmxNsjvJ7rm5udGPRJK0rGWjn+QDwHNV9cAE5kNVbauqjVW1cXp6ehIvKUndmBphn/OADyZ5P3Ai8I/ADcCpSaba1fwaYH/bfz+wFtiXZAo4Bfj1gvFDFj5GkjQBy17pV9VVVbWmqmaY/0HsvVX1b8B9wIfabluAO9vyzrZO235vVVUbv6R9umcdsB748diORJK0rFGu9Jfyn8BtSb4APARsb+PbgW8kmQUOMP9GQVU9kuR24FHgIHB5Vf35KF5fknSEjij6VfVD4Idt+QkW+fRNVf0B+PASj78GuOZIJylJGg9/I1eSOmL0JakjRl+SOmL0JakjRl+SOmL0JakjRl+SOmL0JakjRl+SOmL0JakjRl+SOmL0JakjRl+SOmL0JakjRl+SOmL0JakjRl+SOmL0JakjRl+SOmL0JakjRl+SOmL0JakjRl+SOmL0JakjRl+SOmL0JakjRl+SOmL0JakjRl+SOmL0JakjRl+SOmL0JakjRl+SOmL0JakjRl+SOmL0Jakjy0Y/ydok9yV5NMkjSa5o46cnuTvJ4+3P09p4knwlyWySnyQ5e8FzbWn7P55ky7E7LEnSYka50j8IfLqqNgDnApcn2QBcCdxTVeuBe9o6wPuA9e2/rcCNMP8mAVwNvBM4B7j60BuFJGkylo1+VT1TVQ+25d8Ce4DVwGbglrbbLcDFbXkz8PWa9yPg1CRvBC4A7q6qA1X1PHA3cOE4D0aS9MqO6J5+khngLGAXcGZVPdM2PQuc2ZZXA3sXPGxfG1tq/G9fY2uS3Ul2z83NHcn0JEnLGDn6SV4PfBv4ZFX9ZuG2qiqgxjGhqtpWVRurauP09PQ4nlKS1IwU/SSvYT74t1bVHW34l+22De3P59r4fmDtgoevaWNLjUuSJmSUT+8E2A7sqaovLdi0Ezj0CZwtwJ0Lxj/WPsVzLvBiuw10F3B+ktPaD3DPb2OSpAmZGmGf84CPAj9N8nAb+yxwLXB7ksuAXwAfadu+B7wfmAV+D1wKUFUHknweuL/t97mqOjCOg5AkjWbZ6FfV/wBZYvOmRfYv4PIlnutm4OYjmaAkaXz8jVxJ6ojRl6SOGH1J6ojRl6SOGH1J6ojRl6SOGH1J6ojRl6SOGH1J6ojRl6SOGH1J6ojRl6SOGH1J6ojRl6SOGH1J6ojRl6SOGH1J6ojRl6SOGH1J6ojRl6SOGH1J6ojRl6SOGH1J6ojRl6SOGH1J6ojRl6SOGH1J6ojRl6SOGH1J6ojRl6SOGH1J6ojRl6SOGH1J6sjU0BOQ9Ooxc+V3B3ndp669aJDXXYm80pekjhh9SerIxG/vJLkQuAFYBdxUVdceq9fyn6KTM9S5lnRkJhr9JKuA/wL+BdgH3J9kZ1U9Osl5HGu+2Ug6Xk36Sv8cYLaqngBIchuwGVhR0R+KV9uT5fmenB7P9bG6iJt09FcDexes7wPeuXCHJFuBrW31/5I8dhSvdwbwq6N4/EriuTic5+NlnovDHRfnI9cd1cP/aakNx91HNqtqG7BtHM+VZHdVbRzHc73aeS4O5/l4meficCv9fEz60zv7gbUL1te0MUnSBEw6+vcD65OsS3ICcAmwc8JzkKRuTfT2TlUdTPIfwF3Mf2Tz5qp65Bi+5FhuE60QnovDeT5e5rk43Io+H6mqoecgSZoQfyNXkjpi9CWpIysy+kkuTPJYktkkVw49nyElWZvkviSPJnkkyRVDz2loSVYleSjJd4aey9CSnJpkR5KfJ9mT5F1Dz2lIST7V/p78LMk3k5w49JzGbcVFf8FXPbwP2AD8a5INw85qUAeBT1fVBuBc4PLOzwfAFcCeoSdxnLgB+H5VvRV4Bx2flySrgU8AG6vq7cx/2OSSYWc1fisu+iz4qoeqegk49FUPXaqqZ6rqwbb8W+b/Uq8edlbDSbIGuAi4aei5DC3JKcC7ge0AVfVSVb0w6KSGNwW8LskUcBLwvwPPZ+xWYvQX+6qHbiO3UJIZ4Cxg18BTGdKXgc8Afxl4HseDdcAc8LV2u+umJCcPPamhVNV+4IvA08AzwItV9YNhZzV+KzH6WkSS1wPfBj5ZVb8Zej5DSPIB4LmqemDouRwnpoCzgRur6izgd0C3PwNLchrzdwXWAW8CTk7y78POavxWYvT9qoe/keQ1zAf/1qq6Y+j5DOg84INJnmL+tt97kvz3sFMa1D5gX1Ud+pffDubfBHr1XuDJqpqrqj8BdwD/PPCcxm4lRt+velggSZi/Z7unqr409HyGVFVXVdWaqpph/v+Le6tqxV3JjaqqngX2JnlLG9pE319z/jRwbpKT2t+bTazAH2wfd9+yebQG+KqH4915wEeBnyZ5uI19tqq+N9yUdBz5OHBru0B6Arh04PkMpqp2JdkBPMj8p94eYgV+JYNfwyBJHVmJt3ckSUsw+pLUEaMvSR0x+pLUEaMvSR0x+pLUEaMvSR35fxm1dCjqeLqTAAAAAElFTkSuQmCC\n",
       "datasetInfos": [],
       "metadata": {},
       "removedWidgets": [],
       "type": "image"
      }
     },
     "output_type": "display_data"
    }
   ],
   "source": [
    "import matplotlib.pyplot as plt\n",
    "\n",
    "plt.hist(ads)"
   ]
  },
  {
   "cell_type": "code",
   "execution_count": 0,
   "metadata": {
    "application/vnd.databricks.v1+cell": {
     "cellMetadata": {},
     "inputWidgets": {},
     "nuid": "8091a70c-51cf-4afc-906e-9a44cdd44975",
     "showTitle": false,
     "tableResultSettingsMap": {},
     "title": ""
    }
   },
   "outputs": [],
   "source": []
  }
 ],
 "metadata": {
  "application/vnd.databricks.v1+notebook": {
   "computePreferences": null,
   "dashboards": [],
   "environmentMetadata": {
    "base_environment": "",
    "environment_version": "1"
   },
   "inputWidgetPreferences": null,
   "language": "python",
   "notebookMetadata": {
    "pythonIndentUnit": 4
   },
   "notebookName": "16. Thompson Sampling Algorithm",
   "widgets": {}
  }
 },
 "nbformat": 4,
 "nbformat_minor": 0
}